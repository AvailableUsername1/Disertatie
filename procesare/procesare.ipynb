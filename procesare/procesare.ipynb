{
 "cells": [
  {
   "cell_type": "code",
   "execution_count": null,
   "metadata": {},
   "outputs": [],
   "source": [
    "import sqlite3\n",
    "import pandas as pd\n",
    "\n",
    "# Argumentul sqlite3.connect(\"data.db\") trebuie să fie calea către baza de date obținută\n",
    "# în urma completării formularului\n",
    "conn = sqlite3.connect(\"data.db\")\n",
    "\n",
    "# Selectarea răspunsurilor\n",
    "df = pd.read_sql_query(\"SELECT * FROM answers\", conn)\n",
    "\n",
    "# Close the connection\n",
    "conn.close()\n",
    "\n",
    "# Display the DataFrame\n",
    "df\n"
   ]
  },
  {
   "cell_type": "code",
   "execution_count": null,
   "metadata": {},
   "outputs": [],
   "source": [
    "# Se renunta la dubluri\n",
    "df = df.drop_duplicates(subset=['name', 'surname', 'position', 'country', 'category'])\n",
    "\n",
    "# Se renunta la randurile ce nu contin informatii pentru categorie\n",
    "df = df[df['category'].isin(['True', 'False'])]\n",
    "\n",
    "# Se renunta la coloanele de mai jos. Numele si prenumele din cauza confidentialitatii,\n",
    "# iar timpul răspunsului nu are o utilitate\n",
    "df = df.drop(columns=['elapsed_time', 'name', 'surname']).reset_index(drop=True)"
   ]
  },
  {
   "cell_type": "code",
   "execution_count": null,
   "metadata": {},
   "outputs": [],
   "source": [
    "# Se exporta datele in varianta finala sub forma de fisier .csv\n",
    "df.to_csv(\"data.csv\", index=False)"
   ]
  }
 ],
 "metadata": {
  "kernelspec": {
   "display_name": "licenta",
   "language": "python",
   "name": "python3"
  },
  "language_info": {
   "codemirror_mode": {
    "name": "ipython",
    "version": 3
   },
   "file_extension": ".py",
   "mimetype": "text/x-python",
   "name": "python",
   "nbconvert_exporter": "python",
   "pygments_lexer": "ipython3",
   "version": "3.10.13"
  }
 },
 "nbformat": 4,
 "nbformat_minor": 2
}
